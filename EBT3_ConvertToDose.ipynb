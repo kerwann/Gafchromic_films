{
 "cells": [
  {
   "cell_type": "code",
   "execution_count": 1,
   "metadata": {
    "code_folding": [
     0
    ]
   },
   "outputs": [],
   "source": [
    "# DRAW MATPLOTLIB IN NOTEBOOK #\n",
    "\n",
    "%matplotlib inline\n",
    "# %matplotlib notebook"
   ]
  },
  {
   "cell_type": "code",
   "execution_count": 2,
   "metadata": {
    "code_folding": []
   },
   "outputs": [],
   "source": [
    "# LIBRARIES #\n",
    "\n",
    "import numpy as np\n",
    "import pydicom as dcm\n",
    "import matplotlib.pyplot as plt\n",
    "from matplotlib import gridspec\n",
    "from matplotlib.lines import Line2D\n",
    "from mpl_toolkits.axes_grid1 import make_axes_locatable\n",
    "from scipy import ndimage\n",
    "\n",
    "import SimpleITK"
   ]
  },
  {
   "cell_type": "code",
   "execution_count": 3,
   "metadata": {},
   "outputs": [],
   "source": [
    "# INPUT PARAMETERS #\n",
    "m_filename = 'G:/Commun/PHYSICIENS/CONTROLE QUALITE/06 CK M6/CQ mensuel/2019/2019 06 06/Gafchromic/lumineux-irradie/'\n",
    "#m_filename = 'colli5_72dpi.tif'\n",
    "\n",
    "m_coefA = 1774.1   #x3\n",
    "m_coefB = -3907.8  #x2\n",
    "m_coefC = 3276.7   #x\n",
    "m_coefD = -935.12"
   ]
  },
  {
   "cell_type": "code",
   "execution_count": 4,
   "metadata": {
    "code_folding": []
   },
   "outputs": [],
   "source": [
    "# READS THE IMAGE AND CONVERTS IT TO DOSE #\n",
    "\n",
    "def readAndConvertImg(filename, coefs):\n",
    "    # reads the image using simpleITK:\n",
    "    img = SimpleITK.ReadImage(filename)\n",
    "    sizex = img.GetWidth()\n",
    "    sizey = img.GetHeight()\n",
    "    array = SimpleITK.GetArrayFromImage(img)\n",
    "    \n",
    "    # replaces every 65535 value in array with 65534 to avoid division by zero:\n",
    "    array[array==65535]=65534\n",
    "    \n",
    "    # converts in optical density\n",
    "    dor = -np.log10(array[:,:,0]/65535.0)\n",
    "    dob = -np.log10(array[:,:,2]/65535.0)\n",
    "    \n",
    "    # red channel over blue channel:\n",
    "    rsb = dor/dob\n",
    "    rsb[rsb>1.3] = 1.3\n",
    "\n",
    "    # converting in dose:\n",
    "    dose = coefs[0]*rsb**3 + coefs[1]*rsb**2 + coefs[2]*rsb + coefs[3]\n",
    "    \n",
    "    return dose, sizex, sizey"
   ]
  },
  {
   "cell_type": "code",
   "execution_count": 5,
   "metadata": {},
   "outputs": [
    {
     "ename": "RuntimeError",
     "evalue": "Exception thrown in SimpleITK ReadImage: C:\\Users\\dashboard\\Miniconda3\\conda-bld\\simpleitk_1545325552986\\work\\Code\\IO\\src\\sitkImageReaderBase.cxx:99:\nsitk::ERROR: The file \"G:/Commun/PHYSICIENS/CONTROLE QUALITE/06 CK M6/CQ mensuel/2019/2019 06 06/Gafchromic/lumineux-irradie/img20190626_08242009.tif\" does not exist.",
     "output_type": "error",
     "traceback": [
      "\u001b[1;31m---------------------------------------------------------------------------\u001b[0m",
      "\u001b[1;31mRuntimeError\u001b[0m                              Traceback (most recent call last)",
      "\u001b[1;32m<ipython-input-5-64b15690ddd9>\u001b[0m in \u001b[0;36m<module>\u001b[1;34m\u001b[0m\n\u001b[0;32m      3\u001b[0m \u001b[0mcoefs\u001b[0m \u001b[1;33m=\u001b[0m \u001b[1;33m[\u001b[0m\u001b[0mm_coefA\u001b[0m\u001b[1;33m,\u001b[0m \u001b[0mm_coefB\u001b[0m\u001b[1;33m,\u001b[0m \u001b[0mm_coefC\u001b[0m\u001b[1;33m,\u001b[0m \u001b[0mm_coefD\u001b[0m\u001b[1;33m]\u001b[0m\u001b[1;33m\u001b[0m\u001b[1;33m\u001b[0m\u001b[0m\n\u001b[0;32m      4\u001b[0m \u001b[1;33m\u001b[0m\u001b[0m\n\u001b[1;32m----> 5\u001b[1;33m \u001b[0mdoseimg\u001b[0m\u001b[1;33m,\u001b[0m \u001b[0msizex\u001b[0m\u001b[1;33m,\u001b[0m \u001b[0msizey\u001b[0m \u001b[1;33m=\u001b[0m \u001b[0mreadAndConvertImg\u001b[0m\u001b[1;33m(\u001b[0m\u001b[0mm_filename\u001b[0m\u001b[1;33m,\u001b[0m \u001b[0mcoefs\u001b[0m\u001b[1;33m)\u001b[0m\u001b[1;33m\u001b[0m\u001b[1;33m\u001b[0m\u001b[0m\n\u001b[0m\u001b[0;32m      6\u001b[0m \u001b[1;33m\u001b[0m\u001b[0m\n\u001b[0;32m      7\u001b[0m \u001b[0mplt\u001b[0m\u001b[1;33m.\u001b[0m\u001b[0mrcParams\u001b[0m\u001b[1;33m[\u001b[0m\u001b[1;34m'figure.figsize'\u001b[0m\u001b[1;33m]\u001b[0m \u001b[1;33m=\u001b[0m \u001b[1;33m(\u001b[0m\u001b[1;36m15\u001b[0m\u001b[1;33m,\u001b[0m\u001b[1;36m9\u001b[0m\u001b[1;33m)\u001b[0m\u001b[1;33m\u001b[0m\u001b[1;33m\u001b[0m\u001b[0m\n",
      "\u001b[1;32m<ipython-input-4-ebab4ca33d5e>\u001b[0m in \u001b[0;36mreadAndConvertImg\u001b[1;34m(filename, coefs)\u001b[0m\n\u001b[0;32m      3\u001b[0m \u001b[1;32mdef\u001b[0m \u001b[0mreadAndConvertImg\u001b[0m\u001b[1;33m(\u001b[0m\u001b[0mfilename\u001b[0m\u001b[1;33m,\u001b[0m \u001b[0mcoefs\u001b[0m\u001b[1;33m)\u001b[0m\u001b[1;33m:\u001b[0m\u001b[1;33m\u001b[0m\u001b[1;33m\u001b[0m\u001b[0m\n\u001b[0;32m      4\u001b[0m     \u001b[1;31m# reads the image using simpleITK:\u001b[0m\u001b[1;33m\u001b[0m\u001b[1;33m\u001b[0m\u001b[1;33m\u001b[0m\u001b[0m\n\u001b[1;32m----> 5\u001b[1;33m     \u001b[0mimg\u001b[0m \u001b[1;33m=\u001b[0m \u001b[0mSimpleITK\u001b[0m\u001b[1;33m.\u001b[0m\u001b[0mReadImage\u001b[0m\u001b[1;33m(\u001b[0m\u001b[0mfilename\u001b[0m\u001b[1;33m)\u001b[0m\u001b[1;33m\u001b[0m\u001b[1;33m\u001b[0m\u001b[0m\n\u001b[0m\u001b[0;32m      6\u001b[0m     \u001b[0msizex\u001b[0m \u001b[1;33m=\u001b[0m \u001b[0mimg\u001b[0m\u001b[1;33m.\u001b[0m\u001b[0mGetWidth\u001b[0m\u001b[1;33m(\u001b[0m\u001b[1;33m)\u001b[0m\u001b[1;33m\u001b[0m\u001b[1;33m\u001b[0m\u001b[0m\n\u001b[0;32m      7\u001b[0m     \u001b[0msizey\u001b[0m \u001b[1;33m=\u001b[0m \u001b[0mimg\u001b[0m\u001b[1;33m.\u001b[0m\u001b[0mGetHeight\u001b[0m\u001b[1;33m(\u001b[0m\u001b[1;33m)\u001b[0m\u001b[1;33m\u001b[0m\u001b[1;33m\u001b[0m\u001b[0m\n",
      "\u001b[1;32mC:\\ProgramData\\Anaconda3\\lib\\site-packages\\SimpleITK\\SimpleITK.py\u001b[0m in \u001b[0;36mReadImage\u001b[1;34m(*args)\u001b[0m\n\u001b[0;32m   8859\u001b[0m \u001b[1;33m\u001b[0m\u001b[0m\n\u001b[0;32m   8860\u001b[0m     \"\"\"\n\u001b[1;32m-> 8861\u001b[1;33m     \u001b[1;32mreturn\u001b[0m \u001b[0m_SimpleITK\u001b[0m\u001b[1;33m.\u001b[0m\u001b[0mReadImage\u001b[0m\u001b[1;33m(\u001b[0m\u001b[1;33m*\u001b[0m\u001b[0margs\u001b[0m\u001b[1;33m)\u001b[0m\u001b[1;33m\u001b[0m\u001b[1;33m\u001b[0m\u001b[0m\n\u001b[0m\u001b[0;32m   8862\u001b[0m \u001b[1;32mclass\u001b[0m \u001b[0mImageViewer\u001b[0m\u001b[1;33m(\u001b[0m\u001b[0m_object\u001b[0m\u001b[1;33m)\u001b[0m\u001b[1;33m:\u001b[0m\u001b[1;33m\u001b[0m\u001b[1;33m\u001b[0m\u001b[0m\n\u001b[0;32m   8863\u001b[0m     \"\"\"\n",
      "\u001b[1;31mRuntimeError\u001b[0m: Exception thrown in SimpleITK ReadImage: C:\\Users\\dashboard\\Miniconda3\\conda-bld\\simpleitk_1545325552986\\work\\Code\\IO\\src\\sitkImageReaderBase.cxx:99:\nsitk::ERROR: The file \"G:/Commun/PHYSICIENS/CONTROLE QUALITE/06 CK M6/CQ mensuel/2019/2019 06 06/Gafchromic/lumineux-irradie/img20190626_08242009.tif\" does not exist."
     ]
    }
   ],
   "source": [
    "# PLOTS THE DOSE IMAGE #\n",
    "\n",
    "coefs = [m_coefA, m_coefB, m_coefC, m_coefD]\n",
    "\n",
    "doseimg, sizex, sizey = readAndConvertImg(m_filename, coefs)\n",
    "\n",
    "plt.rcParams['figure.figsize'] = (15,9)\n",
    "fig = plt.figure()\n",
    "gs = gridspec.GridSpec(1,2)\n",
    "\n",
    "ax1 = fig.add_subplot(gs[0])\n",
    "im1 = ax1.imshow(doseimg)#, cmap=\"Greys\", vmin = 0, vmax = 100)\n",
    "ax1.set_title('Dose')\n",
    "#ax1.axes.get_xaxis().set_visible(False)\n",
    "#ax1.axes.get_yaxis().set_visible(False)\n",
    "ax1.axes.autoscale(False)\n",
    "\n",
    "com = ndimage.measurements.center_of_mass(doseimg[10:sizex-10,10:sizey-10])\n",
    "comx = int(com[1])+10\n",
    "comy = int(com[0])+10\n",
    "print(\"Center of mass:\", comx, comy)\n",
    "\n",
    "linex = [0,sizex]\n",
    "liney = [comy,comy]\n",
    "line1 = plt.Line2D(linex, liney)\n",
    "ax1.add_line(line1)\n",
    "linex = [comx,comx]\n",
    "liney = [0,sizey]\n",
    "line2 = plt.Line2D(linex, liney)\n",
    "ax1.add_line(line2)\n",
    "\n",
    "ax2 = fig.add_subplot(gs[1])\n",
    "im2 = ax2.plot(doseimg[comy,:])\n",
    "\n",
    "try:\n",
    "    divider1 = make_axes_locatable(ax1)\n",
    "    cax1 = divider1.append_axes(\"right\", size=\"5%\", pad=0.1)\n",
    "    plt.colorbar(im1, cax=cax1)\n",
    "except:\n",
    "    print('Error displaying images side bars')"
   ]
  },
  {
   "cell_type": "code",
   "execution_count": null,
   "metadata": {
    "collapsed": true
   },
   "outputs": [],
   "source": []
  }
 ],
 "metadata": {
  "kernelspec": {
   "display_name": "Python 3",
   "language": "python",
   "name": "python3"
  },
  "language_info": {
   "codemirror_mode": {
    "name": "ipython",
    "version": 3
   },
   "file_extension": ".py",
   "mimetype": "text/x-python",
   "name": "python",
   "nbconvert_exporter": "python",
   "pygments_lexer": "ipython3",
   "version": "3.7.1"
  }
 },
 "nbformat": 4,
 "nbformat_minor": 1
}
