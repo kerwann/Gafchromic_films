{
 "cells": [
  {
   "cell_type": "code",
   "execution_count": 1,
   "metadata": {
    "collapsed": true
   },
   "outputs": [],
   "source": [
    "from bokeh.plotting import figure, show\n",
    "from bokeh.io import output_notebook"
   ]
  },
  {
   "cell_type": "code",
   "execution_count": 2,
   "metadata": {
    "collapsed": false
   },
   "outputs": [
    {
     "data": {
      "text/html": [
       "\n",
       "    <div class=\"bk-banner\">\n",
       "        <a href=\"http://bokeh.pydata.org\" target=\"_blank\" class=\"bk-logo bk-logo-small bk-logo-notebook\"></a>\n",
       "        <span id=\"92af42d4-7b3b-467e-a1cc-e3cf9d56a2b3\">Loading BokehJS ...</span>\n",
       "    </div>"
      ]
     },
     "metadata": {},
     "output_type": "display_data"
    },
    {
     "data": {
      "application/javascript": [
       "\n",
       "(function(global) {\n",
       "  function now() {\n",
       "    return new Date();\n",
       "  }\n",
       "\n",
       "  if (typeof (window._bokeh_onload_callbacks) === \"undefined\") {\n",
       "    window._bokeh_onload_callbacks = [];\n",
       "  }\n",
       "\n",
       "  function run_callbacks() {\n",
       "    window._bokeh_onload_callbacks.forEach(function(callback) { callback() });\n",
       "    delete window._bokeh_onload_callbacks\n",
       "    console.info(\"Bokeh: all callbacks have finished\");\n",
       "  }\n",
       "\n",
       "  function load_libs(js_urls, callback) {\n",
       "    window._bokeh_onload_callbacks.push(callback);\n",
       "    if (window._bokeh_is_loading > 0) {\n",
       "      console.log(\"Bokeh: BokehJS is being loaded, scheduling callback at\", now());\n",
       "      return null;\n",
       "    }\n",
       "    if (js_urls == null || js_urls.length === 0) {\n",
       "      run_callbacks();\n",
       "      return null;\n",
       "    }\n",
       "    console.log(\"Bokeh: BokehJS not loaded, scheduling load and callback at\", now());\n",
       "    window._bokeh_is_loading = js_urls.length;\n",
       "    for (var i = 0; i < js_urls.length; i++) {\n",
       "      var url = js_urls[i];\n",
       "      var s = document.createElement('script');\n",
       "      s.src = url;\n",
       "      s.async = false;\n",
       "      s.onreadystatechange = s.onload = function() {\n",
       "        window._bokeh_is_loading--;\n",
       "        if (window._bokeh_is_loading === 0) {\n",
       "          console.log(\"Bokeh: all BokehJS libraries loaded\");\n",
       "          run_callbacks()\n",
       "        }\n",
       "      };\n",
       "      s.onerror = function() {\n",
       "        console.warn(\"failed to load library \" + url);\n",
       "      };\n",
       "      console.log(\"Bokeh: injecting script tag for BokehJS library: \", url);\n",
       "      document.getElementsByTagName(\"head\")[0].appendChild(s);\n",
       "    }\n",
       "  };\n",
       "\n",
       "  var js_urls = ['https://cdn.pydata.org/bokeh/release/bokeh-0.11.1.min.js', 'https://cdn.pydata.org/bokeh/release/bokeh-widgets-0.11.1.min.js', 'https://cdn.pydata.org/bokeh/release/bokeh-compiler-0.11.1.min.js'];\n",
       "\n",
       "  var inline_js = [\n",
       "    function(Bokeh) {\n",
       "      Bokeh.set_log_level(\"info\");\n",
       "    },\n",
       "    \n",
       "    function(Bokeh) {\n",
       "      Bokeh.$(\"#92af42d4-7b3b-467e-a1cc-e3cf9d56a2b3\").text(\"BokehJS successfully loaded\");\n",
       "    },\n",
       "    function(Bokeh) {\n",
       "      console.log(\"Bokeh: injecting CSS: https://cdn.pydata.org/bokeh/release/bokeh-0.11.1.min.css\");\n",
       "      Bokeh.embed.inject_css(\"https://cdn.pydata.org/bokeh/release/bokeh-0.11.1.min.css\");\n",
       "      console.log(\"Bokeh: injecting CSS: https://cdn.pydata.org/bokeh/release/bokeh-widgets-0.11.1.min.css\");\n",
       "      Bokeh.embed.inject_css(\"https://cdn.pydata.org/bokeh/release/bokeh-widgets-0.11.1.min.css\");\n",
       "    }\n",
       "  ];\n",
       "\n",
       "  function run_inline_js() {\n",
       "    for (var i = 0; i < inline_js.length; i++) {\n",
       "      inline_js[i](window.Bokeh);\n",
       "    }\n",
       "  }\n",
       "\n",
       "  if (window._bokeh_is_loading === 0) {\n",
       "    console.log(\"Bokeh: BokehJS loaded, going straight to plotting\");\n",
       "    run_inline_js();\n",
       "  } else {\n",
       "    load_libs(js_urls, function() {\n",
       "      console.log(\"Bokeh: BokehJS plotting callback run at\", now());\n",
       "      run_inline_js();\n",
       "    });\n",
       "  }\n",
       "}(this));"
      ]
     },
     "metadata": {},
     "output_type": "display_data"
    }
   ],
   "source": [
    "output_notebook()"
   ]
  },
  {
   "cell_type": "code",
   "execution_count": 3,
   "metadata": {
    "collapsed": true
   },
   "outputs": [],
   "source": [
    "from numpy import cos, linspace\n",
    "x = linspace(-6, 6, 100)\n",
    "y = cos(x)"
   ]
  },
  {
   "cell_type": "code",
   "execution_count": 4,
   "metadata": {
    "collapsed": false
   },
   "outputs": [
    {
     "data": {
      "text/html": [
       "\n",
       "\n",
       "    <div class=\"plotdiv\" id=\"61870dbe-6c26-4ae8-a700-6ab9d37bd862\"></div>\n",
       "<script type=\"text/javascript\">\n",
       "  \n",
       "  (function(global) {\n",
       "    function now() {\n",
       "      return new Date();\n",
       "    }\n",
       "  \n",
       "    if (typeof (window._bokeh_onload_callbacks) === \"undefined\") {\n",
       "      window._bokeh_onload_callbacks = [];\n",
       "    }\n",
       "  \n",
       "    function run_callbacks() {\n",
       "      window._bokeh_onload_callbacks.forEach(function(callback) { callback() });\n",
       "      delete window._bokeh_onload_callbacks\n",
       "      console.info(\"Bokeh: all callbacks have finished\");\n",
       "    }\n",
       "  \n",
       "    function load_libs(js_urls, callback) {\n",
       "      window._bokeh_onload_callbacks.push(callback);\n",
       "      if (window._bokeh_is_loading > 0) {\n",
       "        console.log(\"Bokeh: BokehJS is being loaded, scheduling callback at\", now());\n",
       "        return null;\n",
       "      }\n",
       "      if (js_urls == null || js_urls.length === 0) {\n",
       "        run_callbacks();\n",
       "        return null;\n",
       "      }\n",
       "      console.log(\"Bokeh: BokehJS not loaded, scheduling load and callback at\", now());\n",
       "      window._bokeh_is_loading = js_urls.length;\n",
       "      for (var i = 0; i < js_urls.length; i++) {\n",
       "        var url = js_urls[i];\n",
       "        var s = document.createElement('script');\n",
       "        s.src = url;\n",
       "        s.async = false;\n",
       "        s.onreadystatechange = s.onload = function() {\n",
       "          window._bokeh_is_loading--;\n",
       "          if (window._bokeh_is_loading === 0) {\n",
       "            console.log(\"Bokeh: all BokehJS libraries loaded\");\n",
       "            run_callbacks()\n",
       "          }\n",
       "        };\n",
       "        s.onerror = function() {\n",
       "          console.warn(\"failed to load library \" + url);\n",
       "        };\n",
       "        console.log(\"Bokeh: injecting script tag for BokehJS library: \", url);\n",
       "        document.getElementsByTagName(\"head\")[0].appendChild(s);\n",
       "      }\n",
       "    };var element = document.getElementById(\"61870dbe-6c26-4ae8-a700-6ab9d37bd862\");\n",
       "    if (element == null) {\n",
       "      console.log(\"Bokeh: ERROR: autoload.js configured with elementid '61870dbe-6c26-4ae8-a700-6ab9d37bd862' but no matching script tag was found. \")\n",
       "      return false;\n",
       "    }\n",
       "  \n",
       "    var js_urls = [];\n",
       "  \n",
       "    var inline_js = [\n",
       "      function(Bokeh) {\n",
       "        Bokeh.$(function() {\n",
       "            var docs_json = {\"da22441f-df74-4e60-aa5c-ae215534bf09\":{\"roots\":{\"references\":[{\"attributes\":{\"plot\":{\"id\":\"23fe2c65-34b2-4c63-93c1-46805aafa10c\",\"subtype\":\"Figure\",\"type\":\"Plot\"}},\"id\":\"2725e0e7-177c-47a2-83bb-b703411b5f63\",\"type\":\"WheelZoomTool\"},{\"attributes\":{\"plot\":{\"id\":\"23fe2c65-34b2-4c63-93c1-46805aafa10c\",\"subtype\":\"Figure\",\"type\":\"Plot\"}},\"id\":\"866918cd-6c35-446c-85c1-bad91bf42c6d\",\"type\":\"PreviewSaveTool\"},{\"attributes\":{\"plot\":{\"id\":\"23fe2c65-34b2-4c63-93c1-46805aafa10c\",\"subtype\":\"Figure\",\"type\":\"Plot\"}},\"id\":\"a08952f8-20db-4599-874c-84de5e1b33a5\",\"type\":\"HelpTool\"},{\"attributes\":{\"dimension\":1,\"plot\":{\"id\":\"23fe2c65-34b2-4c63-93c1-46805aafa10c\",\"subtype\":\"Figure\",\"type\":\"Plot\"},\"ticker\":{\"id\":\"f54402f7-17b2-438c-b465-0582396021a3\",\"type\":\"BasicTicker\"}},\"id\":\"d6aef8a5-5f9b-4b26-a992-e81cb7fdeaab\",\"type\":\"Grid\"},{\"attributes\":{\"plot\":{\"id\":\"23fe2c65-34b2-4c63-93c1-46805aafa10c\",\"subtype\":\"Figure\",\"type\":\"Plot\"},\"ticker\":{\"id\":\"41906e73-c917-453c-aad1-d4c86b8083ae\",\"type\":\"BasicTicker\"}},\"id\":\"a9195862-d546-4fa4-bbf4-6ec0ed9d0713\",\"type\":\"Grid\"},{\"attributes\":{\"plot\":{\"id\":\"23fe2c65-34b2-4c63-93c1-46805aafa10c\",\"subtype\":\"Figure\",\"type\":\"Plot\"}},\"id\":\"233bba68-180f-410e-baab-eb4ec5c20eb4\",\"type\":\"ResizeTool\"},{\"attributes\":{},\"id\":\"41906e73-c917-453c-aad1-d4c86b8083ae\",\"type\":\"BasicTicker\"},{\"attributes\":{\"callback\":null},\"id\":\"47d5dfad-e48d-420c-9c59-e8c66d112382\",\"type\":\"DataRange1d\"},{\"attributes\":{\"overlay\":{\"id\":\"d4d846ad-42e1-4336-a09f-151f8fdc7549\",\"type\":\"BoxAnnotation\"},\"plot\":{\"id\":\"23fe2c65-34b2-4c63-93c1-46805aafa10c\",\"subtype\":\"Figure\",\"type\":\"Plot\"}},\"id\":\"b151137a-423b-4a7e-8b39-9c3fa8c894cd\",\"type\":\"BoxZoomTool\"},{\"attributes\":{\"fill_alpha\":{\"value\":0.1},\"fill_color\":{\"value\":\"#1f77b4\"},\"line_alpha\":{\"value\":0.1},\"line_color\":{\"value\":\"#1f77b4\"},\"size\":{\"units\":\"screen\",\"value\":7},\"x\":{\"field\":\"x\"},\"y\":{\"field\":\"y\"}},\"id\":\"0e672f17-5151-4ce3-83ae-0626b82ef4b3\",\"type\":\"Circle\"},{\"attributes\":{},\"id\":\"0e52b2d5-de4c-4468-8719-5b72019e1674\",\"type\":\"BasicTickFormatter\"},{\"attributes\":{\"callback\":null},\"id\":\"39d04967-e6b3-4e9a-8e41-e55c7feb458d\",\"type\":\"DataRange1d\"},{\"attributes\":{},\"id\":\"bfaa1cbe-1bcf-4330-ab3e-574bdb968f3e\",\"type\":\"ToolEvents\"},{\"attributes\":{\"formatter\":{\"id\":\"0e52b2d5-de4c-4468-8719-5b72019e1674\",\"type\":\"BasicTickFormatter\"},\"plot\":{\"id\":\"23fe2c65-34b2-4c63-93c1-46805aafa10c\",\"subtype\":\"Figure\",\"type\":\"Plot\"},\"ticker\":{\"id\":\"f54402f7-17b2-438c-b465-0582396021a3\",\"type\":\"BasicTicker\"}},\"id\":\"5eed25a0-ff42-472a-bcb7-a78a3084aa9d\",\"type\":\"LinearAxis\"},{\"attributes\":{\"fill_alpha\":{\"value\":0.5},\"fill_color\":{\"value\":\"firebrick\"},\"line_alpha\":{\"value\":0.5},\"line_color\":{\"value\":\"firebrick\"},\"size\":{\"units\":\"screen\",\"value\":7},\"x\":{\"field\":\"x\"},\"y\":{\"field\":\"y\"}},\"id\":\"df0ce2b1-2c6e-41f3-8d1d-5d0bffc53889\",\"type\":\"Circle\"},{\"attributes\":{\"below\":[{\"id\":\"0ee7d873-38ce-48d9-abf9-7270c50ce867\",\"type\":\"LinearAxis\"}],\"left\":[{\"id\":\"5eed25a0-ff42-472a-bcb7-a78a3084aa9d\",\"type\":\"LinearAxis\"}],\"plot_height\":500,\"plot_width\":500,\"renderers\":[{\"id\":\"0ee7d873-38ce-48d9-abf9-7270c50ce867\",\"type\":\"LinearAxis\"},{\"id\":\"a9195862-d546-4fa4-bbf4-6ec0ed9d0713\",\"type\":\"Grid\"},{\"id\":\"5eed25a0-ff42-472a-bcb7-a78a3084aa9d\",\"type\":\"LinearAxis\"},{\"id\":\"d6aef8a5-5f9b-4b26-a992-e81cb7fdeaab\",\"type\":\"Grid\"},{\"id\":\"d4d846ad-42e1-4336-a09f-151f8fdc7549\",\"type\":\"BoxAnnotation\"},{\"id\":\"c88f3548-d930-473e-b40b-9d8f6aa05bd1\",\"type\":\"GlyphRenderer\"}],\"tool_events\":{\"id\":\"bfaa1cbe-1bcf-4330-ab3e-574bdb968f3e\",\"type\":\"ToolEvents\"},\"tools\":[{\"id\":\"d5222b6c-4a9f-4161-95df-777fec5a264e\",\"type\":\"PanTool\"},{\"id\":\"2725e0e7-177c-47a2-83bb-b703411b5f63\",\"type\":\"WheelZoomTool\"},{\"id\":\"b151137a-423b-4a7e-8b39-9c3fa8c894cd\",\"type\":\"BoxZoomTool\"},{\"id\":\"866918cd-6c35-446c-85c1-bad91bf42c6d\",\"type\":\"PreviewSaveTool\"},{\"id\":\"233bba68-180f-410e-baab-eb4ec5c20eb4\",\"type\":\"ResizeTool\"},{\"id\":\"4a778d01-6642-475d-b222-a44806ca064f\",\"type\":\"ResetTool\"},{\"id\":\"a08952f8-20db-4599-874c-84de5e1b33a5\",\"type\":\"HelpTool\"}],\"x_range\":{\"id\":\"39d04967-e6b3-4e9a-8e41-e55c7feb458d\",\"type\":\"DataRange1d\"},\"y_range\":{\"id\":\"47d5dfad-e48d-420c-9c59-e8c66d112382\",\"type\":\"DataRange1d\"}},\"id\":\"23fe2c65-34b2-4c63-93c1-46805aafa10c\",\"subtype\":\"Figure\",\"type\":\"Plot\"},{\"attributes\":{\"data_source\":{\"id\":\"31afab11-eb41-4f85-9dd9-51e4e2bcd312\",\"type\":\"ColumnDataSource\"},\"glyph\":{\"id\":\"df0ce2b1-2c6e-41f3-8d1d-5d0bffc53889\",\"type\":\"Circle\"},\"hover_glyph\":null,\"nonselection_glyph\":{\"id\":\"0e672f17-5151-4ce3-83ae-0626b82ef4b3\",\"type\":\"Circle\"},\"selection_glyph\":null},\"id\":\"c88f3548-d930-473e-b40b-9d8f6aa05bd1\",\"type\":\"GlyphRenderer\"},{\"attributes\":{\"plot\":{\"id\":\"23fe2c65-34b2-4c63-93c1-46805aafa10c\",\"subtype\":\"Figure\",\"type\":\"Plot\"}},\"id\":\"d5222b6c-4a9f-4161-95df-777fec5a264e\",\"type\":\"PanTool\"},{\"attributes\":{\"bottom_units\":\"screen\",\"fill_alpha\":{\"value\":0.5},\"fill_color\":{\"value\":\"lightgrey\"},\"left_units\":\"screen\",\"level\":\"overlay\",\"line_alpha\":{\"value\":1.0},\"line_color\":{\"value\":\"black\"},\"line_dash\":[4,4],\"line_width\":{\"value\":2},\"plot\":null,\"render_mode\":\"css\",\"right_units\":\"screen\",\"top_units\":\"screen\"},\"id\":\"d4d846ad-42e1-4336-a09f-151f8fdc7549\",\"type\":\"BoxAnnotation\"},{\"attributes\":{\"plot\":{\"id\":\"23fe2c65-34b2-4c63-93c1-46805aafa10c\",\"subtype\":\"Figure\",\"type\":\"Plot\"}},\"id\":\"4a778d01-6642-475d-b222-a44806ca064f\",\"type\":\"ResetTool\"},{\"attributes\":{\"callback\":null,\"column_names\":[\"x\",\"y\"],\"data\":{\"x\":[-6.0,-5.878787878787879,-5.757575757575758,-5.636363636363637,-5.515151515151516,-5.393939393939394,-5.2727272727272725,-5.151515151515151,-5.03030303030303,-4.909090909090909,-4.787878787878788,-4.666666666666666,-4.545454545454545,-4.424242424242424,-4.303030303030303,-4.181818181818182,-4.0606060606060606,-3.9393939393939394,-3.8181818181818183,-3.696969696969697,-3.5757575757575757,-3.4545454545454546,-3.333333333333333,-3.212121212121212,-3.090909090909091,-2.9696969696969697,-2.8484848484848486,-2.727272727272727,-2.606060606060606,-2.484848484848485,-2.3636363636363633,-2.242424242424242,-2.121212121212121,-2.0,-1.878787878787879,-1.7575757575757578,-1.6363636363636367,-1.5151515151515147,-1.3939393939393936,-1.2727272727272725,-1.1515151515151514,-1.0303030303030303,-0.9090909090909092,-0.7878787878787881,-0.6666666666666661,-0.545454545454545,-0.42424242424242387,-0.30303030303030276,-0.18181818181818166,-0.06060606060606055,0.06060606060606055,0.18181818181818166,0.30303030303030276,0.42424242424242475,0.5454545454545459,0.666666666666667,0.7878787878787881,0.9090909090909092,1.0303030303030303,1.1515151515151514,1.2727272727272734,1.3939393939393945,1.5151515151515156,1.6363636363636367,1.7575757575757578,1.878787878787879,2.0,2.121212121212121,2.242424242424242,2.3636363636363633,2.4848484848484844,2.6060606060606055,2.7272727272727266,2.8484848484848495,2.9696969696969706,3.0909090909090917,3.212121212121213,3.333333333333334,3.454545454545455,3.575757575757576,3.6969696969696972,3.8181818181818183,3.9393939393939394,4.0606060606060606,4.181818181818182,4.303030303030303,4.424242424242424,4.545454545454545,4.666666666666668,4.787878787878789,4.90909090909091,5.030303030303031,5.151515151515152,5.272727272727273,5.3939393939393945,5.515151515151516,5.636363636363637,5.757575757575758,5.878787878787879,6.0],\"y\":[0.960170286650366,0.9193396548099325,0.865018266697566,0.7980032559988883,0.7192780276732816,0.6299978270778193,0.5314727874367585,0.42514870442477243,0.3125858199853547,0.19543592671908872,0.07541812882111003,-0.04570638473858134,-0.16616018460355267,-0.2841756837372786,-0.39802107569934975,-0.5060257478629665,-0.6066047966500377,-0.6982822850375598,-0.7797129010453654,-0.8497016993799634,-0.9072216365377284,-0.9514286420503495,-0.9816740047110791,-0.9975138920213652,-0.9987158631657161,-0.9852622799408088,-0.9573505655855105,-0.9153903077136357,-0.8599972478621625,-0.7919842458546638,-0.7123493515724919,-0.6222611591732922,-0.5230416586748752,-0.4161468365471424,-0.3031453099867001,-0.18569530840332882,-0.06552033990114371,0.05561610016580718,0.17593640742677327,0.2936749537688711,0.40710399686726717,0.5145590337642212,0.6144632264484673,0.7053505410042531,0.7858872607769484,0.854891557862458,0.9113508357206178,0.954436588420145,0.9835165584646712,0.9981640147910761,0.9981640147910761,0.9835165584646712,0.954436588420145,0.9113508357206175,0.8548915578624574,0.7858872607769478,0.7053505410042531,0.6144632264484673,0.5145590337642212,0.40710399686726717,0.29367495376887026,0.17593640742677238,0.055616100165806294,-0.06552033990114371,-0.18569530840332882,-0.3031453099867001,-0.4161468365471424,-0.5230416586748752,-0.6222611591732922,-0.7123493515724919,-0.7919842458546635,-0.8599972478621623,-0.9153903077136356,-0.9573505655855107,-0.9852622799408091,-0.9987158631657161,-0.9975138920213652,-0.9816740047110789,-0.9514286420503493,-0.9072216365377281,-0.8497016993799632,-0.7797129010453654,-0.6982822850375598,-0.6066047966500377,-0.5060257478629665,-0.39802107569934975,-0.2841756837372786,-0.16616018460355267,-0.04570638473857956,0.07541812882111092,0.1954359267190896,0.3125858199853555,0.4251487044247732,0.5314727874367592,0.6299978270778199,0.7192780276732816,0.7980032559988883,0.865018266697566,0.9193396548099325,0.960170286650366]}},\"id\":\"31afab11-eb41-4f85-9dd9-51e4e2bcd312\",\"type\":\"ColumnDataSource\"},{\"attributes\":{\"formatter\":{\"id\":\"8845c18e-97ae-4005-a626-db5555997022\",\"type\":\"BasicTickFormatter\"},\"plot\":{\"id\":\"23fe2c65-34b2-4c63-93c1-46805aafa10c\",\"subtype\":\"Figure\",\"type\":\"Plot\"},\"ticker\":{\"id\":\"41906e73-c917-453c-aad1-d4c86b8083ae\",\"type\":\"BasicTicker\"}},\"id\":\"0ee7d873-38ce-48d9-abf9-7270c50ce867\",\"type\":\"LinearAxis\"},{\"attributes\":{},\"id\":\"f54402f7-17b2-438c-b465-0582396021a3\",\"type\":\"BasicTicker\"},{\"attributes\":{},\"id\":\"8845c18e-97ae-4005-a626-db5555997022\",\"type\":\"BasicTickFormatter\"}],\"root_ids\":[\"23fe2c65-34b2-4c63-93c1-46805aafa10c\"]},\"title\":\"Bokeh Application\",\"version\":\"0.11.1\"}};\n",
       "            var render_items = [{\"docid\":\"da22441f-df74-4e60-aa5c-ae215534bf09\",\"elementid\":\"61870dbe-6c26-4ae8-a700-6ab9d37bd862\",\"modelid\":\"23fe2c65-34b2-4c63-93c1-46805aafa10c\",\"notebook_comms_target\":\"91296770-5064-439a-b11e-0afbbf594e13\"}];\n",
       "            \n",
       "            Bokeh.embed.embed_items(docs_json, render_items);\n",
       "        });\n",
       "      },\n",
       "      function(Bokeh) {\n",
       "      }\n",
       "    ];\n",
       "  \n",
       "    function run_inline_js() {\n",
       "      for (var i = 0; i < inline_js.length; i++) {\n",
       "        inline_js[i](window.Bokeh);\n",
       "      }\n",
       "    }\n",
       "  \n",
       "    if (window._bokeh_is_loading === 0) {\n",
       "      console.log(\"Bokeh: BokehJS loaded, going straight to plotting\");\n",
       "      run_inline_js();\n",
       "    } else {\n",
       "      load_libs(js_urls, function() {\n",
       "        console.log(\"Bokeh: BokehJS plotting callback run at\", now());\n",
       "        run_inline_js();\n",
       "      });\n",
       "    }\n",
       "  }(this));\n",
       "</script>"
      ]
     },
     "metadata": {},
     "output_type": "display_data"
    },
    {
     "data": {
      "text/html": [
       "<p><code>&lt;Bokeh Notebook handle for <strong>In[4]</strong>&gt;</code></p>"
      ],
      "text/plain": [
       "<bokeh.io._CommsHandle at 0x90be978>"
      ]
     },
     "execution_count": 4,
     "metadata": {},
     "output_type": "execute_result"
    }
   ],
   "source": [
    "p = figure(width=500, height=500)\n",
    "p.circle(x, y, size=7, color=\"firebrick\", alpha=0.5)\n",
    "show(p)"
   ]
  },
  {
   "cell_type": "code",
   "execution_count": null,
   "metadata": {
    "collapsed": true
   },
   "outputs": [],
   "source": []
  }
 ],
 "metadata": {
  "kernelspec": {
   "display_name": "Python 2",
   "language": "python",
   "name": "python2"
  },
  "language_info": {
   "codemirror_mode": {
    "name": "ipython",
    "version": 2
   },
   "file_extension": ".py",
   "mimetype": "text/x-python",
   "name": "python",
   "nbconvert_exporter": "python",
   "pygments_lexer": "ipython2",
   "version": "2.7.12"
  }
 },
 "nbformat": 4,
 "nbformat_minor": 1
}
